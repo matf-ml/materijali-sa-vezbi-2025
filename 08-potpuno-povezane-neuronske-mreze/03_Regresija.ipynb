{
  "cells": [
    {
      "cell_type": "markdown",
      "metadata": {
        "id": "DJovTG3wdjR2"
      },
      "source": [
        "# Korišćenje neuronskih mreža u regresionim zadacima"
      ]
    },
    {
      "cell_type": "markdown",
      "metadata": {
        "id": "1yKmcwYhdjR4"
      },
      "source": [
        "Zadatak:\n",
        " - dizajnirati i istrenirati neuronsku mrežu za predikciju cena nekretnina\n",
        " - skup podataka: Boston Housing dataset\n",
        " - dizajn rešenja: neuronska mreža sa propagacijom unapred"
      ]
    },
    {
      "cell_type": "code",
      "execution_count": 1,
      "metadata": {
        "id": "x6gg3ey_djR5"
      },
      "outputs": [],
      "source": [
        "import torch\n",
        "import numpy as np\n",
        "import pandas as pd\n",
        "from tqdm import tqdm\n",
        "\n",
        "SEED = 7\n",
        "DEVICE = torch.device(\"cuda\" if torch.cuda.is_available() else \"cpu\")\n",
        "# za determinističko izvršavanje sveske:\n",
        "np.random.seed(SEED)\n",
        "torch.manual_seed(SEED)\n",
        "if torch.cuda.is_available():\n",
        "    torch.cuda.manual_seed_all(SEED)\n"
      ]
    },
    {
      "cell_type": "markdown",
      "metadata": {
        "id": "58XcJOavdjR6"
      },
      "source": [
        "## Priprema skupa podataka"
      ]
    },
    {
      "cell_type": "markdown",
      "metadata": {
        "id": "_6K04tjddjR6"
      },
      "source": [
        "*Boston housing* je skup podataka namenjen razviju modele za predviđanje cena nekretnina u Bostonu. Sadrži 13 različitih atributa koji obuhvataju različite aspekte stambenih objekata i njihovih okolina. Atributi uključuju, između ostalog, površinu nekretnine, broj soba, stopu kriminala u oblasti, pristup putevima i poreze. Više o ovom skupu podataka možete pročitati [ovde](https://www.cs.toronto.edu/~delve/data/boston/bostonDetail.html)."
      ]
    },
    {
      "cell_type": "code",
      "execution_count": 2,
      "metadata": {
        "id": "wT7plnw4djR7",
        "outputId": "b39e1856-1701-4c67-e8f0-f9a2167b28c6"
      },
      "outputs": [
        {
          "data": {
            "text/html": [
              "<div>\n",
              "<style scoped>\n",
              "    .dataframe tbody tr th:only-of-type {\n",
              "        vertical-align: middle;\n",
              "    }\n",
              "\n",
              "    .dataframe tbody tr th {\n",
              "        vertical-align: top;\n",
              "    }\n",
              "\n",
              "    .dataframe thead th {\n",
              "        text-align: right;\n",
              "    }\n",
              "</style>\n",
              "<table border=\"1\" class=\"dataframe\">\n",
              "  <thead>\n",
              "    <tr style=\"text-align: right;\">\n",
              "      <th></th>\n",
              "      <th>CRIM</th>\n",
              "      <th>ZN</th>\n",
              "      <th>INDUS</th>\n",
              "      <th>CHAS</th>\n",
              "      <th>NOX</th>\n",
              "      <th>RM</th>\n",
              "      <th>AGE</th>\n",
              "      <th>DIS</th>\n",
              "      <th>RAD</th>\n",
              "      <th>TAX</th>\n",
              "      <th>PTRATIO</th>\n",
              "      <th>B</th>\n",
              "      <th>LSTAT</th>\n",
              "      <th>MEDV</th>\n",
              "    </tr>\n",
              "  </thead>\n",
              "  <tbody>\n",
              "    <tr>\n",
              "      <th>0</th>\n",
              "      <td>0.00632</td>\n",
              "      <td>18.0</td>\n",
              "      <td>2.31</td>\n",
              "      <td>0.0</td>\n",
              "      <td>0.538</td>\n",
              "      <td>6.575</td>\n",
              "      <td>65.2</td>\n",
              "      <td>4.0900</td>\n",
              "      <td>1.0</td>\n",
              "      <td>296.0</td>\n",
              "      <td>15.3</td>\n",
              "      <td>396.90</td>\n",
              "      <td>4.98</td>\n",
              "      <td>24.0</td>\n",
              "    </tr>\n",
              "    <tr>\n",
              "      <th>1</th>\n",
              "      <td>0.02731</td>\n",
              "      <td>0.0</td>\n",
              "      <td>7.07</td>\n",
              "      <td>0.0</td>\n",
              "      <td>0.469</td>\n",
              "      <td>6.421</td>\n",
              "      <td>78.9</td>\n",
              "      <td>4.9671</td>\n",
              "      <td>2.0</td>\n",
              "      <td>242.0</td>\n",
              "      <td>17.8</td>\n",
              "      <td>396.90</td>\n",
              "      <td>9.14</td>\n",
              "      <td>21.6</td>\n",
              "    </tr>\n",
              "    <tr>\n",
              "      <th>2</th>\n",
              "      <td>0.02729</td>\n",
              "      <td>0.0</td>\n",
              "      <td>7.07</td>\n",
              "      <td>0.0</td>\n",
              "      <td>0.469</td>\n",
              "      <td>7.185</td>\n",
              "      <td>61.1</td>\n",
              "      <td>4.9671</td>\n",
              "      <td>2.0</td>\n",
              "      <td>242.0</td>\n",
              "      <td>17.8</td>\n",
              "      <td>392.83</td>\n",
              "      <td>4.03</td>\n",
              "      <td>34.7</td>\n",
              "    </tr>\n",
              "    <tr>\n",
              "      <th>3</th>\n",
              "      <td>0.03237</td>\n",
              "      <td>0.0</td>\n",
              "      <td>2.18</td>\n",
              "      <td>0.0</td>\n",
              "      <td>0.458</td>\n",
              "      <td>6.998</td>\n",
              "      <td>45.8</td>\n",
              "      <td>6.0622</td>\n",
              "      <td>3.0</td>\n",
              "      <td>222.0</td>\n",
              "      <td>18.7</td>\n",
              "      <td>394.63</td>\n",
              "      <td>2.94</td>\n",
              "      <td>33.4</td>\n",
              "    </tr>\n",
              "    <tr>\n",
              "      <th>4</th>\n",
              "      <td>0.06905</td>\n",
              "      <td>0.0</td>\n",
              "      <td>2.18</td>\n",
              "      <td>0.0</td>\n",
              "      <td>0.458</td>\n",
              "      <td>7.147</td>\n",
              "      <td>54.2</td>\n",
              "      <td>6.0622</td>\n",
              "      <td>3.0</td>\n",
              "      <td>222.0</td>\n",
              "      <td>18.7</td>\n",
              "      <td>396.90</td>\n",
              "      <td>5.33</td>\n",
              "      <td>36.2</td>\n",
              "    </tr>\n",
              "    <tr>\n",
              "      <th>...</th>\n",
              "      <td>...</td>\n",
              "      <td>...</td>\n",
              "      <td>...</td>\n",
              "      <td>...</td>\n",
              "      <td>...</td>\n",
              "      <td>...</td>\n",
              "      <td>...</td>\n",
              "      <td>...</td>\n",
              "      <td>...</td>\n",
              "      <td>...</td>\n",
              "      <td>...</td>\n",
              "      <td>...</td>\n",
              "      <td>...</td>\n",
              "      <td>...</td>\n",
              "    </tr>\n",
              "    <tr>\n",
              "      <th>501</th>\n",
              "      <td>0.06263</td>\n",
              "      <td>0.0</td>\n",
              "      <td>11.93</td>\n",
              "      <td>0.0</td>\n",
              "      <td>0.573</td>\n",
              "      <td>6.593</td>\n",
              "      <td>69.1</td>\n",
              "      <td>2.4786</td>\n",
              "      <td>1.0</td>\n",
              "      <td>273.0</td>\n",
              "      <td>21.0</td>\n",
              "      <td>391.99</td>\n",
              "      <td>9.67</td>\n",
              "      <td>22.4</td>\n",
              "    </tr>\n",
              "    <tr>\n",
              "      <th>502</th>\n",
              "      <td>0.04527</td>\n",
              "      <td>0.0</td>\n",
              "      <td>11.93</td>\n",
              "      <td>0.0</td>\n",
              "      <td>0.573</td>\n",
              "      <td>6.120</td>\n",
              "      <td>76.7</td>\n",
              "      <td>2.2875</td>\n",
              "      <td>1.0</td>\n",
              "      <td>273.0</td>\n",
              "      <td>21.0</td>\n",
              "      <td>396.90</td>\n",
              "      <td>9.08</td>\n",
              "      <td>20.6</td>\n",
              "    </tr>\n",
              "    <tr>\n",
              "      <th>503</th>\n",
              "      <td>0.06076</td>\n",
              "      <td>0.0</td>\n",
              "      <td>11.93</td>\n",
              "      <td>0.0</td>\n",
              "      <td>0.573</td>\n",
              "      <td>6.976</td>\n",
              "      <td>91.0</td>\n",
              "      <td>2.1675</td>\n",
              "      <td>1.0</td>\n",
              "      <td>273.0</td>\n",
              "      <td>21.0</td>\n",
              "      <td>396.90</td>\n",
              "      <td>5.64</td>\n",
              "      <td>23.9</td>\n",
              "    </tr>\n",
              "    <tr>\n",
              "      <th>504</th>\n",
              "      <td>0.10959</td>\n",
              "      <td>0.0</td>\n",
              "      <td>11.93</td>\n",
              "      <td>0.0</td>\n",
              "      <td>0.573</td>\n",
              "      <td>6.794</td>\n",
              "      <td>89.3</td>\n",
              "      <td>2.3889</td>\n",
              "      <td>1.0</td>\n",
              "      <td>273.0</td>\n",
              "      <td>21.0</td>\n",
              "      <td>393.45</td>\n",
              "      <td>6.48</td>\n",
              "      <td>22.0</td>\n",
              "    </tr>\n",
              "    <tr>\n",
              "      <th>505</th>\n",
              "      <td>0.04741</td>\n",
              "      <td>0.0</td>\n",
              "      <td>11.93</td>\n",
              "      <td>0.0</td>\n",
              "      <td>0.573</td>\n",
              "      <td>6.030</td>\n",
              "      <td>80.8</td>\n",
              "      <td>2.5050</td>\n",
              "      <td>1.0</td>\n",
              "      <td>273.0</td>\n",
              "      <td>21.0</td>\n",
              "      <td>396.90</td>\n",
              "      <td>7.88</td>\n",
              "      <td>11.9</td>\n",
              "    </tr>\n",
              "  </tbody>\n",
              "</table>\n",
              "<p>506 rows × 14 columns</p>\n",
              "</div>"
            ],
            "text/plain": [
              "        CRIM    ZN  INDUS  CHAS    NOX     RM   AGE     DIS  RAD    TAX  \\\n",
              "0    0.00632  18.0   2.31   0.0  0.538  6.575  65.2  4.0900  1.0  296.0   \n",
              "1    0.02731   0.0   7.07   0.0  0.469  6.421  78.9  4.9671  2.0  242.0   \n",
              "2    0.02729   0.0   7.07   0.0  0.469  7.185  61.1  4.9671  2.0  242.0   \n",
              "3    0.03237   0.0   2.18   0.0  0.458  6.998  45.8  6.0622  3.0  222.0   \n",
              "4    0.06905   0.0   2.18   0.0  0.458  7.147  54.2  6.0622  3.0  222.0   \n",
              "..       ...   ...    ...   ...    ...    ...   ...     ...  ...    ...   \n",
              "501  0.06263   0.0  11.93   0.0  0.573  6.593  69.1  2.4786  1.0  273.0   \n",
              "502  0.04527   0.0  11.93   0.0  0.573  6.120  76.7  2.2875  1.0  273.0   \n",
              "503  0.06076   0.0  11.93   0.0  0.573  6.976  91.0  2.1675  1.0  273.0   \n",
              "504  0.10959   0.0  11.93   0.0  0.573  6.794  89.3  2.3889  1.0  273.0   \n",
              "505  0.04741   0.0  11.93   0.0  0.573  6.030  80.8  2.5050  1.0  273.0   \n",
              "\n",
              "     PTRATIO       B  LSTAT  MEDV  \n",
              "0       15.3  396.90   4.98  24.0  \n",
              "1       17.8  396.90   9.14  21.6  \n",
              "2       17.8  392.83   4.03  34.7  \n",
              "3       18.7  394.63   2.94  33.4  \n",
              "4       18.7  396.90   5.33  36.2  \n",
              "..       ...     ...    ...   ...  \n",
              "501     21.0  391.99   9.67  22.4  \n",
              "502     21.0  396.90   9.08  20.6  \n",
              "503     21.0  396.90   5.64  23.9  \n",
              "504     21.0  393.45   6.48  22.0  \n",
              "505     21.0  396.90   7.88  11.9  \n",
              "\n",
              "[506 rows x 14 columns]"
            ]
          },
          "execution_count": 2,
          "metadata": {},
          "output_type": "execute_result"
        }
      ],
      "source": [
        "data_url = \"https://lib.stat.cmu.edu/datasets/boston\"\n",
        "column_names = [\n",
        "    \"CRIM\", \"ZN\", \"INDUS\", \"CHAS\", \"NOX\", \"RM\", \"AGE\", \"DIS\",\n",
        "    \"RAD\", \"TAX\", \"PTRATIO\", \"B\", \"LSTAT\", \"MEDV\"\n",
        "]\n",
        "\n",
        "raw_data = pd.read_csv(data_url, sep=\"\\s+\", skiprows=22, header=None).values\n",
        "raw_data = np.hstack([raw_data[::2], raw_data[1::2]])[:, :14]\n",
        "raw_data = pd.DataFrame(raw_data, columns=column_names)\n",
        "raw_data"
      ]
    },
    {
      "cell_type": "code",
      "execution_count": 3,
      "metadata": {
        "id": "qzCV9xjWdjR8"
      },
      "outputs": [],
      "source": [
        "from sklearn import model_selection\n",
        "\n",
        "X = raw_data.drop(columns=[\"MEDV\"])\n",
        "y = raw_data[\"MEDV\"]\n",
        "X_train_valid, X_test, y_train_valid, y_test = model_selection.train_test_split(X, y, test_size=0.33, random_state=7)\n",
        "X_train, X_valid, y_train, y_valid = model_selection.train_test_split(X_train_valid, y_train_valid, test_size=0.1, random_state=7)"
      ]
    },
    {
      "cell_type": "code",
      "execution_count": 4,
      "metadata": {
        "id": "SLkhIif2djR8",
        "outputId": "a9bd1a59-aa21-4f3e-dfa0-f0e2fe3797d9"
      },
      "outputs": [
        {
          "name": "stdout",
          "output_type": "stream",
          "text": [
            "X_train (305, 13) <class 'pandas.core.frame.DataFrame'>\n",
            "y_train (305,) <class 'pandas.core.series.Series'>\n",
            "X_valid (34, 13) <class 'pandas.core.frame.DataFrame'>\n",
            "y_valid (34,) <class 'pandas.core.series.Series'>\n",
            "X_test (167, 13) <class 'pandas.core.frame.DataFrame'>\n",
            "y_test (167,) <class 'pandas.core.series.Series'>\n"
          ]
        }
      ],
      "source": [
        "print(\"X_train\", X_train.shape, type(X_train))\n",
        "print(\"y_train\", y_train.shape, type(y_train))\n",
        "print(\"X_valid\", X_valid.shape, type(X_valid))\n",
        "print(\"y_valid\", y_valid.shape, type(y_valid))\n",
        "print(\"X_test\", X_test.shape, type(X_test))\n",
        "print(\"y_test\", y_test.shape, type(y_test))"
      ]
    },
    {
      "cell_type": "markdown",
      "metadata": {
        "id": "6LONhgC-djR9"
      },
      "source": [
        "Nakon učitavanja, podatke ćemo i standardizovati."
      ]
    },
    {
      "cell_type": "code",
      "execution_count": 5,
      "metadata": {
        "id": "bIfb5eR-djR9"
      },
      "outputs": [],
      "source": [
        "from sklearn import preprocessing\n",
        "\n",
        "scaler = preprocessing.StandardScaler()\n",
        "scaler.fit(X_train)\n",
        "X_train = scaler.transform(X_train)\n",
        "X_valid = scaler.transform(X_valid)\n",
        "X_test = scaler.transform(X_test)"
      ]
    },
    {
      "cell_type": "code",
      "execution_count": 6,
      "metadata": {
        "id": "2TIwai9BdjR9",
        "outputId": "b47500be-6bdf-4cf0-924f-95b2287babb5"
      },
      "outputs": [
        {
          "name": "stdout",
          "output_type": "stream",
          "text": [
            "X_train\t(305, 13)\t<class 'numpy.ndarray'>\n",
            "y_train\t(305,)\t<class 'pandas.core.series.Series'>\n",
            "X_valid\t(34, 13)\t<class 'numpy.ndarray'>\n",
            "y_valid\t(34,)\t<class 'pandas.core.series.Series'>\n",
            "X_test\t(167, 13)\t<class 'numpy.ndarray'>\n",
            "y_test\t(167,)\t<class 'pandas.core.series.Series'>\n"
          ]
        }
      ],
      "source": [
        "print(\"X_train\", X_train.shape, type(X_train), sep='\\t')\n",
        "print(\"y_train\", y_train.shape, type(y_train), sep='\\t')\n",
        "print(\"X_valid\", X_valid.shape, type(X_valid), sep='\\t')\n",
        "print(\"y_valid\", y_valid.shape, type(y_valid), sep='\\t')\n",
        "print(\"X_test\", X_test.shape, type(X_test), sep='\\t')\n",
        "print(\"y_test\", y_test.shape, type(y_test), sep='\\t')"
      ]
    },
    {
      "cell_type": "markdown",
      "metadata": {
        "id": "no7JJVHedjR9"
      },
      "source": [
        "Kako torch biblioteka ne radi sa pandas objektima, prebacicemo ciljnu promenjivu u numpy"
      ]
    },
    {
      "cell_type": "markdown",
      "metadata": {
        "id": "0HqGnIEkdjR9"
      },
      "source": [
        "### Kreiranje mreže"
      ]
    },
    {
      "cell_type": "markdown",
      "metadata": {
        "id": "AJNM4dvMdjR-"
      },
      "source": [
        "Mreža koju ćemo napraviti će biti mreža sa propagacijom unapred. Ulaz u mrežu biće vektor dimenzije 13. Mreža će imati jedan skriveni sloj sa 100 neurona. Izlazni sloj imaće jedan neuron jer mreža treba da predvidi cenu nekretnine. Za aktivacionu funkciju skrivenog sloja odabraćemo `ReLu`, dok ćemo za drugi, izlazni sloj, izostaviti aktivaionu funkciju što je standardni izbor u slučajevima regresionih zadataka. Aktivaciona funkcija bi ograničavala opseg koje mreža može da nauči što je u suprotnosti sa očekivanjima regresionih zadataka."
      ]
    },
    {
      "cell_type": "code",
      "execution_count": 7,
      "metadata": {
        "id": "Z__sTu3NdjR-"
      },
      "outputs": [],
      "source": [
        "number_of_features = X_train.shape[1]\n",
        "output_size = 1"
      ]
    },
    {
      "cell_type": "code",
      "execution_count": 8,
      "metadata": {
        "id": "fPXnx0jqdjR-"
      },
      "outputs": [],
      "source": [
        "import torch.nn as nn\n",
        "\n",
        "class RegressionModel(nn.Module):\n",
        "    def __init__(self, input_size, output_size):\n",
        "        super(RegressionModel, self).__init__()\n",
        "        layers = [\n",
        "            nn.Linear(input_size, 100),\n",
        "            nn.ReLU(),\n",
        "            nn.Linear(100, output_size),\n",
        "        ]\n",
        "        self.model = nn.Sequential(*layers)\n",
        "\n",
        "        # na ovaj način se može promeniti inicijalizacija težina\n",
        "        self.apply(self.init_weights)\n",
        "\n",
        "    def forward(self, x):\n",
        "        return self.model(x)\n",
        "\n",
        "    def init_weights(self, m):\n",
        "        if isinstance(m, nn.Linear):\n",
        "            nn.init.xavier_uniform_(m.weight)"
      ]
    },
    {
      "cell_type": "code",
      "execution_count": 9,
      "metadata": {
        "id": "CLwL6SMfdjR-",
        "outputId": "fed4a3a3-d25d-4d17-d627-4fe8a39b5ef3"
      },
      "outputs": [
        {
          "name": "stdout",
          "output_type": "stream",
          "text": [
            "RegressionModel(\n",
            "  (model): Sequential(\n",
            "    (0): Linear(in_features=13, out_features=100, bias=True)\n",
            "    (1): ReLU()\n",
            "    (2): Linear(in_features=100, out_features=1, bias=True)\n",
            "  )\n",
            ")\n",
            "Broj parametara modela:  1501\n"
          ]
        }
      ],
      "source": [
        "model = RegressionModel(number_of_features, output_size)\n",
        "print(model)\n",
        "print(\"Broj parametara modela: \", sum(p.numel() for p in model.parameters() if p.requires_grad))"
      ]
    },
    {
      "cell_type": "markdown",
      "metadata": {
        "id": "NWdAV_EYdjR-"
      },
      "source": [
        "## Treniranje mreže"
      ]
    },
    {
      "cell_type": "markdown",
      "metadata": {
        "id": "JTvrQ7GNdjR-"
      },
      "source": [
        "U regresionim zadacima za funkciju greške najčešće koristimo srednjekvadratnu grešku (engl. mean squared error). Pored nje od interesa nam mogu biti i druge metrike. Jedna od čestih metrika koje pratimo je srednja apsolutna greška (eng. mean absolute error)."
      ]
    },
    {
      "cell_type": "markdown",
      "metadata": {
        "id": "gcpyjlcGdjR-"
      },
      "source": [
        "Mrežu ćemo trenirati u 100 epoha sa paketićima veličine 32 instance. Ovoga puta ćemo postaviti i `verbose` parametar funkcije na vrednost 1 kako bismo mogli da pratimo ispise u toku izvršavanja funkcije."
      ]
    },
    {
      "cell_type": "code",
      "execution_count": 10,
      "metadata": {
        "id": "I7fHDONIdjR_"
      },
      "outputs": [],
      "source": [
        "N_EPOCHS = 200\n",
        "BATCH_SIZE = 32"
      ]
    },
    {
      "cell_type": "code",
      "execution_count": 11,
      "metadata": {
        "id": "xM9V2WcNdjR_"
      },
      "outputs": [],
      "source": [
        "from torch.utils.data import TensorDataset, DataLoader\n",
        "\n",
        "X_train, y_train = torch.FloatTensor(X_train), torch.FloatTensor(y_train.to_numpy())\n",
        "train_dataset = TensorDataset(X_train, y_train)\n",
        "train_loader = DataLoader(dataset=train_dataset, batch_size=BATCH_SIZE, shuffle=True)\n",
        "\n",
        "X_valid, y_valid = torch.FloatTensor(X_valid), torch.FloatTensor(y_valid.to_numpy())\n",
        "valid_dataset = TensorDataset(X_valid, y_valid)\n",
        "valid_loader = DataLoader(dataset=valid_dataset, batch_size=BATCH_SIZE, shuffle=False)"
      ]
    },
    {
      "cell_type": "code",
      "execution_count": 12,
      "metadata": {
        "colab": {
          "referenced_widgets": [
            "2e28163bcaec407287b05780ef47750c"
          ]
        },
        "id": "aii6YMaTdjR_",
        "outputId": "b690107f-30cb-4efd-848b-c6b9bc6bbea9"
      },
      "outputs": [
        {
          "name": "stderr",
          "output_type": "stream",
          "text": [
            "100%|██████████| 100/100 [00:00<00:00, 127.34it/s]\n"
          ]
        }
      ],
      "source": [
        "from torch.optim import Adam\n",
        "from collections import defaultdict\n",
        "import matplotlib.pyplot as plt\n",
        "\n",
        "model.to(DEVICE)\n",
        "\n",
        "metrics = {\n",
        "    'train_mse': [],\n",
        "    'train_mae': [],\n",
        "    'train_step': [],\n",
        "    'val_mse': [],\n",
        "    'val_mae': [],\n",
        "    'val_step': [],\n",
        "}\n",
        "\n",
        "\n",
        "learning_rate = 0.01        # stopa ucenja\n",
        "NUM_EPOCHS = 100   # broj epoha\n",
        "\n",
        "# definisanje algoritma optimizacije\n",
        "optimizer = torch.optim.Adam(model.parameters(), lr=learning_rate)\n",
        "\n",
        "# nekada se neki slojevi modela ponasaju drugačije tokom treniranja i testiranja\n",
        "# zato prebacujemo model u režim treniranja\n",
        "training_step = 0\n",
        "for epoch in tqdm(range(NUM_EPOCHS)):\n",
        "    model.train()\n",
        "    for x_batch, y_batch in train_loader:\n",
        "        x_batch = x_batch.to(DEVICE)\n",
        "        y_batch = y_batch.to(DEVICE)\n",
        "\n",
        "        # Računanje predviđanja modela\n",
        "        y_pred = model(x_batch)\n",
        "\n",
        "        # Izračunavanje greške\n",
        "        loss = nn.functional.mse_loss(y_pred, y_batch.view(-1, 1))\n",
        "        \n",
        "        # Resetovanje gradijenata\n",
        "        optimizer.zero_grad()\n",
        "\n",
        "        # Računanje gradijenata propagacijom unazad\n",
        "        loss.backward()\n",
        "\n",
        "        # Ažuriranje težina\n",
        "        optimizer.step()\n",
        "\n",
        "        # čuvanje metrika\n",
        "        metrics['train_mse'].append(loss.item())\n",
        "        metrics['train_mae'].append((y_pred - y_batch.view(-1, 1)).abs().mean().item())\n",
        "        metrics['train_step'].append(training_step)\n",
        "        training_step += 1\n",
        "    \n",
        "    # testiranje modela\n",
        "    model.eval()\n",
        "    with torch.no_grad():  # isključivanje izračunavanja gradijenata\n",
        "        validation_mse = 0\n",
        "        validation_mae = 0\n",
        "        total_samples = 0\n",
        "        for x_batch, y_batch in valid_loader:\n",
        "            x_batch = x_batch.to(DEVICE)\n",
        "            y_batch = y_batch.to(DEVICE)\n",
        "\n",
        "            # Računanje predviđanja modela\n",
        "            y_pred = model(x_batch)\n",
        "\n",
        "            # Izračunavanje greške\n",
        "            mse = nn.functional.mse_loss(y_pred, y_batch.view(-1, 1), reduction='sum')\n",
        "            mae = (y_pred - y_batch.view(-1, 1)).abs().sum()\n",
        "            validation_mse += mse.item()\n",
        "            validation_mae += mae.item()\n",
        "            total_samples += y_batch.size(0)\n",
        "        # Računanje prosečne greške\n",
        "        validation_mse /= total_samples\n",
        "        validation_mae /= total_samples\n",
        "        # čuvanje metrika\n",
        "        metrics['val_mse'].append(validation_mse)\n",
        "        metrics['val_mae'].append(validation_mae)\n",
        "        metrics['val_step'].append(training_step)\n"
      ]
    },
    {
      "cell_type": "code",
      "execution_count": null,
      "metadata": {
        "id": "XRraMnhzdjR_"
      },
      "outputs": [],
      "source": []
    },
    {
      "cell_type": "code",
      "execution_count": 13,
      "metadata": {
        "id": "gmkCvgGOdjR_",
        "outputId": "297b0b83-db70-4c13-f70a-c82795821f38"
      },
      "outputs": [
        {
          "data": {
            "image/png": "[encoded data removed]",
            "text/plain": [
              "<Figure size 1200x500 with 2 Axes>"
            ]
          },
          "metadata": {},
          "output_type": "display_data"
        }
      ],
      "source": [
        "# vizualizacija metrika\n",
        "plt.figure(figsize=(12, 5))\n",
        "plt.subplot(1, 2, 1)\n",
        "plt.plot(metrics['train_step'], metrics['train_mse'], label='Train MSE')\n",
        "plt.plot(metrics['val_step'], metrics['val_mse'], label='Val MSE')\n",
        "plt.xlabel('Step')\n",
        "plt.ylabel('MSE')\n",
        "plt.title('Srednje kvadratna greška')\n",
        "plt.legend()\n",
        "\n",
        "plt.subplot(1, 2, 2)\n",
        "plt.plot(metrics['train_step'], metrics['train_mae'], label='Train MAE')\n",
        "plt.plot(metrics['val_step'], metrics['val_mae'], label='Val MAE')\n",
        "plt.xlabel('Step')\n",
        "plt.ylabel('MAE')\n",
        "plt.title('Srednja apsolutna greška')\n",
        "plt.legend()\n",
        "\n",
        "plt.show()"
      ]
    },
    {
      "cell_type": "markdown",
      "metadata": {
        "id": "RZFBr-gLdjR_"
      },
      "source": [
        "## Evaluacija mreže"
      ]
    },
    {
      "cell_type": "code",
      "execution_count": 14,
      "metadata": {
        "id": "Wy_jOHu7djSA"
      },
      "outputs": [],
      "source": [
        "X_test, y_test = torch.FloatTensor(X_test), torch.FloatTensor(y_test.to_numpy())\n",
        "test_dataset = TensorDataset(X_test, y_test)\n",
        "test_loader = DataLoader(dataset=test_dataset, batch_size=BATCH_SIZE, shuffle=True)\n"
      ]
    },
    {
      "cell_type": "code",
      "execution_count": 15,
      "metadata": {
        "colab": {
          "referenced_widgets": [
            "b23e54ca504c439ab77a78f453b85cc0"
          ]
        },
        "id": "dxDvK4SfdjSA",
        "outputId": "ee01738e-5a9f-4183-c37d-b76c755a629b"
      },
      "outputs": [
        {
          "name": "stdout",
          "output_type": "stream",
          "text": [
            "test_mae=2.249616179637566\n",
            "test_mse=12.478581385698147\n"
          ]
        }
      ],
      "source": [
        "model.eval()\n",
        "test_mse, test_mae, test_samples = 0, 0, 0\n",
        "\n",
        "with torch.no_grad():\n",
        "    for inputs, labels in test_loader:\n",
        "        inputs, labels = inputs.to(DEVICE), labels.to(DEVICE)\n",
        "        batch_size = inputs.size(0)\n",
        "\n",
        "\n",
        "        predictions = model(inputs).squeeze()\n",
        "        mse = (predictions - labels).pow(2).mean()\n",
        "        mae = (predictions - labels).abs().mean()\n",
        "\n",
        "        test_mse += mse.item() * batch_size\n",
        "        test_mae += mae.item() * batch_size\n",
        "        test_samples += batch_size\n",
        "test_mse /= test_samples\n",
        "test_mae /= test_samples\n",
        "print(f\"{test_mae=}\")\n",
        "print(f\"{test_mse=}\")"
      ]
    },
    {
      "cell_type": "markdown",
      "metadata": {
        "id": "28EmHdZBdjSA"
      },
      "source": [
        "Ukoliko su nam potrebne i druge metrike evaluacije, možemo iskoristiti funkcije biblioteke `scikit-learn`."
      ]
    },
    {
      "cell_type": "code",
      "execution_count": 16,
      "metadata": {
        "id": "0dRzPbL8djSA"
      },
      "outputs": [],
      "source": [
        "from sklearn import metrics"
      ]
    },
    {
      "cell_type": "code",
      "execution_count": 17,
      "metadata": {
        "id": "35AnDoF5djSA"
      },
      "outputs": [],
      "source": [
        "model.eval()\n",
        "with torch.no_grad():\n",
        "    y_predicted = model(X_test.to(DEVICE)).cpu().numpy()"
      ]
    },
    {
      "cell_type": "code",
      "execution_count": 18,
      "metadata": {
        "id": "uFpEqKepdjSA",
        "outputId": "994eed6d-c76a-47a2-de29-b0734ef64733"
      },
      "outputs": [
        {
          "data": {
            "text/plain": [
              "0.8355603814125061"
            ]
          },
          "execution_count": 18,
          "metadata": {},
          "output_type": "execute_result"
        }
      ],
      "source": [
        "metrics.r2_score(y_test, y_predicted)"
      ]
    },
    {
      "cell_type": "markdown",
      "metadata": {
        "id": "A3Wk6TOndjSA"
      },
      "source": [
        "Analizom grafika funkcije greške možemo zaključiti da je došlo do malog preprilagođavanja modela. Greška na trening skupu je nastavila da opada, dok je greška na validacionom skupu stagnirala.\n",
        "\n",
        "Ovo nije poželjno, tako da možemo iskoristiti tehniku ranog zaustavljanja treninga (eng. early stopping). Ukoliko najbolja greška na validacionom skupu prestane da opada možemo zaustaviti trening."
      ]
    },
    {
      "cell_type": "markdown",
      "metadata": {
        "id": "A2RsvUZ9djSA"
      },
      "source": [
        "Modifikovaćemo kod za trening kako bi uveli ovu heuristiku:"
      ]
    },
    {
      "cell_type": "code",
      "execution_count": 19,
      "metadata": {
        "colab": {
          "referenced_widgets": [
            "bb48943ab17b4989a0ba37c73cb35bfe"
          ]
        },
        "id": "DsqGutk7djSA",
        "outputId": "2dd245c1-a8e8-463c-eb50-1711caf8561b"
      },
      "outputs": [
        {
          "name": "stderr",
          "output_type": "stream",
          "text": [
            " 29%|██▉       | 29/100 [00:00<00:00, 114.66it/s]"
          ]
        },
        {
          "name": "stdout",
          "output_type": "stream",
          "text": [
            "\n",
            "EARLY STOPPING\n",
            "\n"
          ]
        },
        {
          "name": "stderr",
          "output_type": "stream",
          "text": [
            "\n"
          ]
        }
      ],
      "source": [
        "model2 = RegressionModel(number_of_features, output_size)\n",
        "model2.to(DEVICE)\n",
        "optimizer = Adam(params=model2.parameters(), lr=0.01)\n",
        "metrics2 = defaultdict(lambda: {'train': [], 'valid': []})\n",
        "\n",
        "best_val_loss = float('inf')\n",
        "early_stopping_patience = 10  # broj epoha koji čekamo na poboljšanje\n",
        "eps = 1e-5                    # minimalno poboljšanje koje očekujemo\n",
        "steps_since_improvment = 0\n",
        "\n",
        "metrics = {\n",
        "    'train_mse': [],\n",
        "    'train_mae': [],\n",
        "    'train_step': [],\n",
        "    'val_mse': [],\n",
        "    'val_mae': [],\n",
        "    'val_step': [],\n",
        "}\n",
        "\n",
        "training_step = 0\n",
        "for epoch in tqdm(range(NUM_EPOCHS)):\n",
        "    model2.train()\n",
        "    for x_batch, y_batch in train_loader:\n",
        "        x_batch = x_batch.to(DEVICE)\n",
        "        y_batch = y_batch.to(DEVICE)\n",
        "        y_pred = model2(x_batch)\n",
        "\n",
        "        loss = nn.functional.mse_loss(y_pred, y_batch.view(-1, 1))\n",
        "        \n",
        "        optimizer.zero_grad()\n",
        "        loss.backward()\n",
        "        optimizer.step()\n",
        "\n",
        "        metrics['train_mse'].append(loss.item())\n",
        "        metrics['train_mae'].append((y_pred - y_batch.view(-1, 1)).abs().mean().item())\n",
        "        metrics['train_step'].append(training_step)\n",
        "        training_step += 1\n",
        "    \n",
        "    model2.eval()\n",
        "    with torch.no_grad():\n",
        "        validation_mse = 0\n",
        "        validation_mae = 0\n",
        "        total_samples = 0\n",
        "        for x_batch, y_batch in valid_loader:\n",
        "            x_batch = x_batch.to(DEVICE)\n",
        "            y_batch = y_batch.to(DEVICE)\n",
        "\n",
        "            y_pred = model2(x_batch)\n",
        "\n",
        "            mse = nn.functional.mse_loss(y_pred, y_batch.view(-1, 1), reduction='sum')\n",
        "            mae = (y_pred - y_batch.view(-1, 1)).abs().sum()\n",
        "            validation_mse += mse.item()\n",
        "            validation_mae += mae.item()\n",
        "            total_samples += y_batch.size(0)\n",
        "\n",
        "        validation_mse /= total_samples\n",
        "        validation_mae /= total_samples\n",
        "\n",
        "        metrics['val_mse'].append(validation_mse)\n",
        "        metrics['val_mae'].append(validation_mae)\n",
        "        metrics['val_step'].append(training_step)\n",
        "\n",
        "\n",
        "    # Deo koda posvećen ranom zaustavljanju:\n",
        "    if best_val_loss > validation_mse + eps:\n",
        "        best_val_loss = validation_mse\n",
        "        steps_since_improvment = 0\n",
        "    else:\n",
        "        steps_since_improvment += 1\n",
        "        if steps_since_improvment == early_stopping_patience:\n",
        "            print(\"\\nEARLY STOPPING\\n\")\n",
        "            break"
      ]
    },
    {
      "cell_type": "code",
      "execution_count": 20,
      "metadata": {
        "id": "FfRSEJfydjSB",
        "outputId": "d8b7c9e5-92e7-499c-ac6c-aed432827632"
      },
      "outputs": [
        {
          "data": {
            "image/png": "[encoded data removed]",
            "text/plain": [
              "<Figure size 1200x500 with 2 Axes>"
            ]
          },
          "metadata": {},
          "output_type": "display_data"
        }
      ],
      "source": [
        "# vizualizacija metrika\n",
        "plt.figure(figsize=(12, 5))\n",
        "plt.subplot(1, 2, 1)\n",
        "plt.plot(metrics['train_step'], metrics['train_mse'], label='Train MSE')\n",
        "plt.plot(metrics['val_step'], metrics['val_mse'], label='Val MSE')\n",
        "plt.xlabel('Step')\n",
        "plt.ylabel('MSE')\n",
        "plt.title('Srednje kvadratna greška')\n",
        "plt.legend()\n",
        "\n",
        "plt.subplot(1, 2, 2)\n",
        "plt.plot(metrics['train_step'], metrics['train_mae'], label='Train MAE')\n",
        "plt.plot(metrics['val_step'], metrics['val_mae'], label='Val MAE')\n",
        "plt.xlabel('Step')\n",
        "plt.ylabel('MAE')\n",
        "plt.title('Srednja apsolutna greška')\n",
        "plt.legend()\n",
        "\n",
        "plt.show()"
      ]
    },
    {
      "cell_type": "code",
      "execution_count": 21,
      "metadata": {
        "colab": {
          "referenced_widgets": [
            "ba41d4301a854b849f7cab4092db57b6"
          ]
        },
        "id": "RP6sO1-ydjSB",
        "outputId": "ccf3aafa-db07-49fc-ae1f-b6eb2552b0f0"
      },
      "outputs": [
        {
          "name": "stdout",
          "output_type": "stream",
          "text": [
            "test_mae=2.2496162224672513\n",
            "test_mse=12.478582467861518\n"
          ]
        }
      ],
      "source": [
        "model.eval()\n",
        "test_mse, test_mae, test_samples = 0, 0, 0\n",
        "\n",
        "with torch.no_grad():\n",
        "    for inputs, labels in test_loader:\n",
        "        inputs, labels = inputs.to(DEVICE), labels.to(DEVICE)\n",
        "        batch_size = inputs.size(0)\n",
        "\n",
        "\n",
        "        predictions = model(inputs).squeeze()\n",
        "        mse = (predictions - labels).pow(2).mean()\n",
        "        mae = (predictions - labels).abs().mean()\n",
        "\n",
        "        test_mse += mse.item() * batch_size\n",
        "        test_mae += mae.item() * batch_size\n",
        "        test_samples += batch_size\n",
        "test_mse /= test_samples\n",
        "test_mae /= test_samples\n",
        "print(f\"{test_mae=}\")\n",
        "print(f\"{test_mse=}\")"
      ]
    },
    {
      "cell_type": "markdown",
      "metadata": {
        "id": "b2MY7WPwdjSB"
      },
      "source": [
        "## Čuvanje modela"
      ]
    },
    {
      "cell_type": "markdown",
      "metadata": {
        "id": "VxE4vJQYdjSC"
      },
      "source": [
        "Kao što smo napomenuli, za svaki sloj mreže postoji matrica parametara i matrica slobodnih članova. Sve parametre modela, kao i njegove slobodne članove možemo dobit pozivom funckije `model.state_dict()`."
      ]
    },
    {
      "cell_type": "code",
      "execution_count": 22,
      "metadata": {
        "id": "hOewTNgPdjSC",
        "outputId": "28ee2e1a-e901-4e81-ceec-ff5e817101d8"
      },
      "outputs": [
        {
          "name": "stdout",
          "output_type": "stream",
          "text": [
            "odict_keys(['model.0.weight', 'model.0.bias', 'model.2.weight', 'model.2.bias'])\n",
            "<class 'collections.OrderedDict'>\n"
          ]
        }
      ],
      "source": [
        "print(model.state_dict().keys())\n",
        "print(type(model.state_dict()))\n"
      ]
    },
    {
      "cell_type": "code",
      "execution_count": 23,
      "metadata": {
        "id": "odwApuU9djSC",
        "outputId": "38afe7de-4310-4915-bee8-045458761943"
      },
      "outputs": [
        {
          "name": "stdout",
          "output_type": "stream",
          "text": [
            "model.0.weight torch.Size([100, 13])\n",
            "model.0.bias torch.Size([100])\n",
            "model.2.weight torch.Size([1, 100])\n",
            "model.2.bias torch.Size([1])\n"
          ]
        }
      ],
      "source": [
        "for weight_name in model.state_dict():\n",
        "    print(weight_name, model.state_dict()[weight_name].shape)"
      ]
    },
    {
      "cell_type": "markdown",
      "metadata": {
        "id": "Ia1hFj6wdjSC"
      },
      "source": [
        "Pozivom funkcije `torch.save` možemo čuvati vrednosti parametara modela, kao i cele modele. Fajlove koje kreiramo pozivom `torch.save` funkcije se po konvenciji koriste `.pth` ekstenziju."
      ]
    },
    {
      "cell_type": "code",
      "execution_count": 24,
      "metadata": {
        "id": "Xhvm7DHkdjSC"
      },
      "outputs": [],
      "source": [
        "torch.save(model.state_dict(), 'saved_models/model.pth')"
      ]
    },
    {
      "cell_type": "code",
      "execution_count": 25,
      "metadata": {
        "id": "vHTtZcDfdjSC"
      },
      "outputs": [],
      "source": [
        "torch.save(model, 'saved_models/model_full.pth')"
      ]
    },
    {
      "cell_type": "markdown",
      "metadata": {
        "id": "CwXpdvWpdjSC"
      },
      "source": [
        "Fajl napravljen `torch.save` funkcijom možemo pročitati funkcijom `torch.load`."
      ]
    },
    {
      "cell_type": "code",
      "execution_count": 28,
      "metadata": {
        "id": "31G0cNfkdjSC"
      },
      "outputs": [
        {
          "name": "stderr",
          "output_type": "stream",
          "text": [
            "/tmp/ipykernel_51312/3642480482.py:1: FutureWarning: You are using `torch.load` with `weights_only=False` (the current default value), which uses the default pickle module implicitly. It is possible to construct malicious pickle data which will execute arbitrary code during unpickling (See https://github.com/pytorch/pytorch/blob/main/SECURITY.md#untrusted-models for more details). In a future release, the default value for `weights_only` will be flipped to `True`. This limits the functions that could be executed during unpickling. Arbitrary objects will no longer be allowed to be loaded via this mode unless they are explicitly allowlisted by the user via `torch.serialization.add_safe_globals`. We recommend you start setting `weights_only=True` for any use case where you don't have full control of the loaded file. Please open an issue on GitHub for any issues related to this experimental feature.\n",
            "  model_revived = torch.load('saved_models/model_full.pth')\n"
          ]
        }
      ],
      "source": [
        "model_revived = torch.load('saved_models/model_full.pth')"
      ]
    },
    {
      "cell_type": "code",
      "execution_count": 29,
      "metadata": {
        "id": "fFjO22JndjSC",
        "outputId": "78c7d3c8-095f-4a25-af6a-b92dbb4f92e1"
      },
      "outputs": [
        {
          "data": {
            "text/plain": [
              "<All keys matched successfully>"
            ]
          },
          "execution_count": 29,
          "metadata": {},
          "output_type": "execute_result"
        }
      ],
      "source": [
        "model.load_state_dict(torch.load('saved_models/model.pth', weights_only=True))"
      ]
    },
    {
      "cell_type": "markdown",
      "metadata": {
        "id": "qzwbzEYAdjSC"
      },
      "source": [
        "Učitani model se može koristiti na način na koji smo to do sada i radili."
      ]
    },
    {
      "cell_type": "code",
      "execution_count": null,
      "metadata": {
        "id": "dvtjTjcHdjSC"
      },
      "outputs": [],
      "source": []
    },
    {
      "cell_type": "markdown",
      "metadata": {
        "id": "43UTMtysdjSD"
      },
      "source": [
        "Zajednica koja se bavi mašinskim učenjem ulaže napore da standardizuje formate za čuvanje mreža. Jedan od njih je i [ONNX](https://onnx.ai/) za koji torch biblioteka nudi [podršku](https://pytorch.org/docs/stable/onnx.html). O ovim temam će svakako biti više reči i u nastavku kursa.\n",
        "<img src='assets/onnx.png'>"
      ]
    },
    {
      "cell_type": "code",
      "execution_count": 30,
      "metadata": {
        "id": "yGfbffUPdjSD"
      },
      "outputs": [],
      "source": [
        "torch.onnx.export(model, torch.randn(1, number_of_features, device=DEVICE),f=\"model.onnx\")"
      ]
    },
    {
      "cell_type": "markdown",
      "metadata": {
        "id": "Jdxj0yfsdjSD"
      },
      "source": [
        "Ukoliko nam je potreban uvid u samu arhitekturu mreže, možemo generisati i grafički prikaz korišćenjem biblioteke torchviz. Za ova generisanja nam je potrebna i bibliteka `graphviz`."
      ]
    },
    {
      "cell_type": "code",
      "execution_count": 31,
      "metadata": {
        "id": "zC7AVbv1djSD",
        "outputId": "37480e51-1d5d-4f5b-e41d-c529953d885d"
      },
      "outputs": [
        {
          "data": {
            "text/plain": [
              "'model_pytorch.png'"
            ]
          },
          "execution_count": 31,
          "metadata": {},
          "output_type": "execute_result"
        }
      ],
      "source": [
        "from torchviz import make_dot\n",
        "\n",
        "dummy_input = torch.randn(1, number_of_features).to(DEVICE)\n",
        "output = model(dummy_input)\n",
        "dot = make_dot(output, params=dict(model.named_parameters()))\n",
        "dot.render(\"model_pytorch\", format=\"png\")"
      ]
    },
    {
      "cell_type": "markdown",
      "metadata": {
        "id": "p0goItqxdjSD"
      },
      "source": [
        "Vizuelizacije mreže će biti moguće i kroz alat [TensorBoard](https://www.tensorflow.org/tensorboard) koji ćemo, takođe, upoznati na nekom od narednih časova."
      ]
    },
    {
      "cell_type": "code",
      "execution_count": null,
      "metadata": {
        "id": "gaBbSGv3djSD"
      },
      "outputs": [],
      "source": []
    }
  ],
  "metadata": {
    "colab": {
      "provenance": []
    },
    "kernelspec": {
      "display_name": "ai",
      "language": "python",
      "name": "python3"
    },
    "language_info": {
      "codemirror_mode": {
        "name": "ipython",
        "version": 3
      },
      "file_extension": ".py",
      "mimetype": "text/x-python",
      "name": "python",
      "nbconvert_exporter": "python",
      "pygments_lexer": "ipython3",
      "version": "3.11.10"
    }
  },
  "nbformat": 4,
  "nbformat_minor": 0
}
